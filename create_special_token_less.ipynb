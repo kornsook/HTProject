{
 "cells": [
  {
   "cell_type": "code",
   "execution_count": 16,
   "id": "2600b934",
   "metadata": {},
   "outputs": [
    {
     "name": "stderr",
     "output_type": "stream",
     "text": [
      "Using custom data configuration default-8f0e79c3e2af87d2\n",
      "Found cached dataset json (/home/korn/.cache/huggingface/datasets/json/default-8f0e79c3e2af87d2/0.0.0)\n"
     ]
    },
    {
     "data": {
      "application/vnd.jupyter.widget-view+json": {
       "model_id": "c4c4cd3e617c42d4bba5a7110c61c19c",
       "version_major": 2,
       "version_minor": 0
      },
      "text/plain": [
       "  0%|          | 0/2 [00:00<?, ?it/s]"
      ]
     },
     "metadata": {},
     "output_type": "display_data"
    }
   ],
   "source": [
    "from datasets import DatasetDict, Dataset\n",
    "import pandas as pd\n",
    "from pathlib import Path\n",
    "\n",
    "source_path = \"data/htrp\"\n",
    "dest_path = f\"{source_path}_no_special_tokens\"\n",
    "Path(dest_path).mkdir(parents=True, exist_ok=True)\n",
    "dataset = DatasetDict.from_json(\n",
    "    {\n",
    "        \"train\": f\"{source_path}/train.json\",\n",
    "        \"test\": f\"{source_path}/test.json\"\n",
    "    }\n",
    ")\n",
    "df = dataset['train'].to_pandas()\n",
    "df_test = dataset['test'].to_pandas()"
   ]
  },
  {
   "cell_type": "code",
   "execution_count": 17,
   "id": "29407041",
   "metadata": {},
   "outputs": [],
   "source": [
    "additional_tokens = [\n",
    "        \"[PHONE]\",\n",
    "        \"[NAME]\",\n",
    "        \"[LOCATION]\",\n",
    "        \"[ONLYFANS]\",\n",
    "        \"[SNAPCHAT]\",\n",
    "        \"[USERNAME]\",\n",
    "        \"[INSTAGRAM]\",\n",
    "        \"[TWITTER]\",\n",
    "        \"[EMAIL]\"\n",
    "    ]\n",
    "for token in additional_tokens:\n",
    "    df['text'] = df.apply(lambda row: row['text'].replace(token, \"\"), axis = 1)\n",
    "    df_test['text'] = df.apply(lambda row: row['text'].replace(token, \"\"), axis = 1)"
   ]
  },
  {
   "cell_type": "code",
   "execution_count": 18,
   "id": "d5886d29",
   "metadata": {},
   "outputs": [
    {
     "data": {
      "application/vnd.jupyter.widget-view+json": {
       "model_id": "01dc6499749f4190ab15d14c3d81cca6",
       "version_major": 2,
       "version_minor": 0
      },
      "text/plain": [
       "Creating json from Arrow format:   0%|          | 0/269 [00:00<?, ?ba/s]"
      ]
     },
     "metadata": {},
     "output_type": "display_data"
    },
    {
     "data": {
      "application/vnd.jupyter.widget-view+json": {
       "model_id": "c60a450ce64f48e58bfa72a67ea3a9ad",
       "version_major": 2,
       "version_minor": 0
      },
      "text/plain": [
       "Creating json from Arrow format:   0%|          | 0/69 [00:00<?, ?ba/s]"
      ]
     },
     "metadata": {},
     "output_type": "display_data"
    },
    {
     "data": {
      "text/plain": [
       "41700997"
      ]
     },
     "execution_count": 18,
     "metadata": {},
     "output_type": "execute_result"
    }
   ],
   "source": [
    "Dataset.from_pandas(df).to_json(f\"{dest_path}/train.json\")\n",
    "Dataset.from_pandas(df_test).to_json(f\"{dest_path}/test.json\")"
   ]
  },
  {
   "cell_type": "code",
   "execution_count": 15,
   "id": "27c45ed2",
   "metadata": {},
   "outputs": [
    {
     "data": {
      "text/plain": [
       "Dataset({\n",
       "    features: ['text', 'post_id', 'label'],\n",
       "    num_rows: 68738\n",
       "})"
      ]
     },
     "execution_count": 15,
     "metadata": {},
     "output_type": "execute_result"
    }
   ],
   "source": [
    "test_set"
   ]
  }
 ],
 "metadata": {
  "kernelspec": {
   "display_name": "Python 3 (ipykernel)",
   "language": "python",
   "name": "python3"
  },
  "language_info": {
   "codemirror_mode": {
    "name": "ipython",
    "version": 3
   },
   "file_extension": ".py",
   "mimetype": "text/x-python",
   "name": "python",
   "nbconvert_exporter": "python",
   "pygments_lexer": "ipython3",
   "version": "3.8.10"
  }
 },
 "nbformat": 4,
 "nbformat_minor": 5
}
